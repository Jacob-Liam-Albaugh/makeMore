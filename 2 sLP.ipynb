{
 "cells": [
  {
   "cell_type": "code",
   "execution_count": 81,
   "metadata": {},
   "outputs": [],
   "source": [
    "import torch\n",
    "import torch.nn.functional as F\n",
    "import matplotlib.pyplot as plt # for making figures\n",
    "import random\n",
    "random.seed(42)\n",
    "%matplotlib inline\n",
    "\n",
    "# Check if GPU is available\n",
    "output_device = torch.device('cuda:0' if torch.cuda.is_available() else 'cpu')\n",
    "\n",
    "# Import data\n",
    "names = open('names.txt', 'r').read().splitlines()\n",
    "chars = sorted(list(set(''.join(names))))\n",
    "stoi = {s:i+1 for i,s in enumerate(chars)}\n",
    "stoi['.'] = 0\n",
    "itos = {i+1:s for i,s in enumerate(chars)}\n",
    "itos[0] = '.'"
   ]
  },
  {
   "cell_type": "code",
   "execution_count": 82,
   "metadata": {},
   "outputs": [
    {
     "name": "stdout",
     "output_type": "stream",
     "text": [
      "torch.Size([182625, 5]) torch.Size([182625])\n",
      "torch.Size([22655, 5]) torch.Size([22655])\n",
      "torch.Size([22866, 5]) torch.Size([22866])\n"
     ]
    }
   ],
   "source": [
    "# build the dataset\n",
    "block_size = 5 # context length: how many characters do we take to predict the next one?\n",
    "\n",
    "def build_dataset(names):  \n",
    "  X, Y = [], []\n",
    "  for w in names:\n",
    "\n",
    "    #print(w)\n",
    "    context = [0] * block_size\n",
    "    for ch in w + '.':\n",
    "      ix = stoi[ch]\n",
    "      X.append(context)\n",
    "      Y.append(ix)\n",
    "      #print(''.join(itos[i] for i in context), '--->', itos[ix])\n",
    "      context = context[1:] + [ix] # crop and append\n",
    "\n",
    "  X = torch.tensor(X)\n",
    "  Y = torch.tensor(Y)\n",
    "  print(X.shape, Y.shape)\n",
    "  return X, Y\n",
    "\n",
    "\n",
    "random.shuffle(names)\n",
    "n1 = int(0.8*len(names))\n",
    "n2 = int(0.9*len(names))\n",
    "\n",
    "Xtr, Ytr = build_dataset(names[:n1]) # training set 80%\n",
    "Xdev, Ydev = build_dataset(names[n1:n2]) # dev set 10%\n",
    "Xte, Yte = build_dataset(names[n2:]) # test set 10%"
   ]
  },
  {
   "cell_type": "code",
   "execution_count": 83,
   "metadata": {},
   "outputs": [
    {
     "name": "stdout",
     "output_type": "stream",
     "text": [
      "total # elements: 103432\n"
     ]
    }
   ],
   "source": [
    "# initialize the model\n",
    "lyr_sz = 200 # size of the hidden layer\n",
    "emb_dim = 15 # diemnsion of the character embeddings\n",
    "\n",
    "g = torch.Generator().manual_seed(2147483647)\n",
    "C = torch.randn((27,emb_dim), generator=g).requires_grad_(True) # 27 possible characters, embeded into emb_dim dimensions\n",
    "W1 = torch.randn((block_size*emb_dim,lyr_sz), generator=g).requires_grad_(True) # 3 context chars, emb_dim dimensions per char, lyr_sz hidden weights\n",
    "b1 = torch.randn(lyr_sz, generator=g).requires_grad_(True) # lyr_sz hidden biases\n",
    "W2 = torch.randn((lyr_sz,27), generator=g).requires_grad_(True) # lyr_sz hidden weights, 27 possible characters\n",
    "b2 = torch.randn(27, generator=g).requires_grad_(True) # 27 output biases\n",
    "parameters = [C, W1, b1, W2, b2] # list of all model parameters\n",
    "\n",
    "print(\"total # elements:\", sum(p.nelement() for p in parameters)) # number of parameters"
   ]
  },
  {
   "cell_type": "code",
   "execution_count": 89,
   "metadata": {},
   "outputs": [],
   "source": [
    "lre = torch.linspace(-3,0,itr)\n",
    "lrs = 10**lre\n",
    "lri = []\n",
    "lossi = []\n",
    "stepi = []\n",
    "itr = 250000 # number of iterations"
   ]
  },
  {
   "cell_type": "code",
   "execution_count": 113,
   "metadata": {},
   "outputs": [],
   "source": [
    "# Gradient Descent\n",
    "for i in range(itr):\n",
    "    # mini-batch construction\n",
    "    batch_size = 100\n",
    "    ix = torch.randint(0, Xtr.shape[0], (batch_size,)) # batch_size random index into the dataset\n",
    "\n",
    "    # Forward pass\n",
    "    emb = C[Xtr[ix]] # look up embeddings\n",
    "    h = torch.tanh(emb.view(-1,block_size*emb_dim) @ W1 + b1)\n",
    "    logits = h @ W2 + b2\n",
    "    loss = F.cross_entropy(logits, Ytr[ix])\n",
    "\n",
    "    # Backward pass\n",
    "    loss.backward()\n",
    "\n",
    "    # Update weights\n",
    "    lr = 0.001\n",
    "    # lr = lrs[i]\n",
    "    for p in parameters:\n",
    "        p.data += -lr * p.grad\n",
    "        p.grad = None\n",
    "    \n",
    "    #track stats\n",
    "    #lri.append(lre[i])\n",
    "    #stepi.append(i)\n",
    "    #lossi.append(loss.log10().item())\n",
    "\n",
    "#print('mini-batch loss:', loss.item())"
   ]
  },
  {
   "cell_type": "code",
   "execution_count": 114,
   "metadata": {},
   "outputs": [
    {
     "name": "stdout",
     "output_type": "stream",
     "text": [
      "training set loss: 1.648150086402893\n",
      "dev set loss: 2.518132209777832\n",
      "test set loss: 2.5112078189849854\n"
     ]
    }
   ],
   "source": [
    "# training set loss\n",
    "emb = C[Xtr]\n",
    "h = torch.tanh(emb.view(-1,block_size*emb_dim) @ W1 + b1)\n",
    "logits = h @ W2 + b2\n",
    "loss = F.cross_entropy(logits, Ytr)\n",
    "print('training set loss:', loss.item())\n",
    "\n",
    "# dev set loss\n",
    "emb = C[Xdev] # look up embeddings\n",
    "h = torch.tanh(emb.view(-1,block_size*emb_dim) @ W1 + b1)\n",
    "logits = h @ W2 + b2\n",
    "loss = F.cross_entropy(logits, Ydev)\n",
    "print('dev set loss:', loss.item())\n",
    "\n",
    "# test set loss\n",
    "emb = C[Xte]\n",
    "h = torch.tanh(emb.view(-1,block_size*emb_dim) @ W1 + b1)\n",
    "logits = h @ W2 + b2\n",
    "loss = F.cross_entropy(logits, Yte)\n",
    "print('test set loss:', loss.item())"
   ]
  },
  {
   "cell_type": "code",
   "execution_count": 115,
   "metadata": {},
   "outputs": [],
   "source": [
    "#plt.plot(stepi, lossi)"
   ]
  },
  {
   "cell_type": "code",
   "execution_count": 116,
   "metadata": {},
   "outputs": [
    {
     "name": "stdout",
     "output_type": "stream",
     "text": [
      "carmah\n",
      "amelia\n",
      "khyrin\n",
      "xithik\n",
      "skanden\n",
      "jazhauna\n",
      "perric\n",
      "kaeli\n",
      "nella\n",
      "archer\n",
      "vivan\n",
      "jeph\n",
      "bronsey\n",
      "quintin\n",
      "lilta\n",
      "jadis\n",
      "wane\n",
      "madia\n",
      "yoniel\n",
      "euphoriya\n"
     ]
    }
   ],
   "source": [
    "# sample from the model\n",
    "g = torch.Generator().manual_seed(2147483647 + 10)\n",
    "\n",
    "for _ in range(20):\n",
    "    \n",
    "    out = []\n",
    "    context = [0] * block_size # initialize with all ...\n",
    "    while True:\n",
    "      emb = C[torch.tensor([context])] # (1,block_size,d)\n",
    "      h = torch.tanh(emb.view(1, -1) @ W1 + b1)\n",
    "      logits = h @ W2 + b2\n",
    "      probs = F.softmax(logits, dim=1)\n",
    "      ix = torch.multinomial(probs, num_samples=1, generator=g).item()\n",
    "      context = context[1:] + [ix]\n",
    "      if ix == 0:\n",
    "        break\n",
    "      out.append(ix)\n",
    "    \n",
    "    print(''.join(itos[i] for i in out))"
   ]
  },
  {
   "cell_type": "code",
   "execution_count": null,
   "metadata": {},
   "outputs": [],
   "source": []
  }
 ],
 "metadata": {
  "kernelspec": {
   "display_name": "Python 3",
   "language": "python",
   "name": "python3"
  },
  "language_info": {
   "codemirror_mode": {
    "name": "ipython",
    "version": 3
   },
   "file_extension": ".py",
   "mimetype": "text/x-python",
   "name": "python",
   "nbconvert_exporter": "python",
   "pygments_lexer": "ipython3",
   "version": "3.11.1"
  }
 },
 "nbformat": 4,
 "nbformat_minor": 2
}
