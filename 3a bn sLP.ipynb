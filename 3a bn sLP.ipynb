{
 "cells": [
  {
   "cell_type": "code",
   "execution_count": 175,
   "metadata": {},
   "outputs": [
    {
     "name": "stderr",
     "output_type": "stream",
     "text": [
      "UsageError: Line magic function `%alive_progress` not found.\n"
     ]
    }
   ],
   "source": [
    "import torch\n",
    "import torch.nn.functional as F\n",
    "import matplotlib.pyplot as plt\n",
    "%matplotlib inline"
   ]
  },
  {
   "cell_type": "code",
   "execution_count": 165,
   "metadata": {},
   "outputs": [
    {
     "data": {
      "text/plain": [
       "['emma', 'olivia', 'ava', 'isabella', 'sophia', 'charlotte', 'mia', 'amelia']"
      ]
     },
     "execution_count": 165,
     "metadata": {},
     "output_type": "execute_result"
    }
   ],
   "source": [
    "names = open('names.txt','r').read().splitlines()\n",
    "names[:8]"
   ]
  },
  {
   "cell_type": "code",
   "execution_count": 166,
   "metadata": {},
   "outputs": [],
   "source": [
    "chars = sorted(list(set(''.join(names))))\n",
    "stoi = {s:i+1 for i,s in enumerate(chars)}\n",
    "stoi['.'] = 0\n",
    "itos = {i:s for s,i in stoi.items()}\n",
    "vocab_size = len(stoi)"
   ]
  },
  {
   "cell_type": "code",
   "execution_count": 167,
   "metadata": {},
   "outputs": [],
   "source": [
    "# build dataset\n",
    "block_size = 3 # context length: # of characters taken for prediction\n",
    "\n",
    "def build_dataset(names):\n",
    "    X, Y = [], []\n",
    "\n",
    "    for name in names:\n",
    "        context = [0] * block_size\n",
    "        for ch in name + '.':\n",
    "            ix = stoi[ch]\n",
    "            X.append(context)\n",
    "            Y.append(ix)\n",
    "            context = context[1:] + [ix]\n",
    "    \n",
    "    X = torch.tensor(X)\n",
    "    Y = torch.tensor(Y)\n",
    "    return X, Y\n",
    "\n",
    "import random\n",
    "random.seed(42)\n",
    "random.shuffle(names)\n",
    "n1 = int(0.8 * len(names))\n",
    "n2 = int(0.9 * len(names))\n",
    "\n",
    "Xtr, Ytr = build_dataset(names[:n1]) # training set 80%\n",
    "Xdev, Ydev = build_dataset(names[n1:n2]) # dev set 10%\n",
    "Xte, Yte = build_dataset(names[n2:]) # test set 10%\n"
   ]
  },
  {
   "cell_type": "code",
   "execution_count": 270,
   "metadata": {},
   "outputs": [
    {
     "name": "stdout",
     "output_type": "stream",
     "text": [
      "Number of parameters:  12097\n"
     ]
    }
   ],
   "source": [
    "# network initialization\n",
    "n_embd = 10 # character embedding dimensionality\n",
    "n_hid = 200 # # of neurons in hidden layer\n",
    "gain = 5/3 # recommended gain value for tanh activation function\n",
    "\n",
    "g = torch.Generator().manual_seed(2147483647)\n",
    "C  = torch.randn((vocab_size, n_embd),         generator=g) # character embeddings\n",
    "W1 = torch.randn((block_size * n_embd, n_hid), generator=g) * gain / (block_size * n_embd)**0.5\n",
    "# batch normalization will cancel out bias term (biased from bnbias)\n",
    "# b1 = torch.randn((n_hid,),                     generator=g) * 0.01\n",
    "W2 = torch.randn((n_hid, vocab_size),          generator=g) * gain / (n_hid)**0.5\n",
    "b2 = torch.zeros((vocab_size,))\n",
    "\n",
    "# batch normalization parameters\n",
    "bngain = torch.ones((1, n_hid)) # batch normalization gain\n",
    "bnbias = torch.zeros((1, n_hid)) # batch normalization bias\n",
    "bnmean_running = torch.zeros((1, n_hid)) # running mean for batch normalization\n",
    "bnstd_running = torch.ones((1, n_hid)) # running std for batch normalization\n",
    "\n",
    "parameters = [C, W1, W2, b2, bngain, bnbias] # parameters to be optimized (removed b1)\n",
    "for p in parameters:\n",
    "    p.requires_grad_(True)\n",
    "print(\"Number of parameters: \", sum([p.numel() for p in parameters]))"
   ]
  },
  {
   "cell_type": "code",
   "execution_count": 275,
   "metadata": {},
   "outputs": [
    {
     "name": "stdout",
     "output_type": "stream",
     "text": [
      "      0/ 200000: 2.3535\n",
      "  10000/ 200000: 1.8854\n",
      "  20000/ 200000: 2.0903\n",
      "  30000/ 200000: 2.1682\n",
      "  40000/ 200000: 2.1738\n",
      "  50000/ 200000: 2.1162\n",
      "  60000/ 200000: 1.9653\n",
      "  70000/ 200000: 2.1000\n",
      "  80000/ 200000: 2.4661\n",
      "  90000/ 200000: 1.7093\n",
      " 100000/ 200000: 2.3094\n",
      " 110000/ 200000: 2.2003\n",
      " 120000/ 200000: 2.0866\n",
      " 130000/ 200000: 2.0110\n",
      " 140000/ 200000: 2.0336\n",
      " 150000/ 200000: 2.2915\n",
      " 160000/ 200000: 2.0892\n",
      " 170000/ 200000: 2.1169\n",
      " 180000/ 200000: 2.0652\n",
      " 190000/ 200000: 1.7686\n"
     ]
    }
   ],
   "source": [
    "# optimization\n",
    "max_steps = 200000\n",
    "batch_size = 32\n",
    "bn_eps = 1e-5 # epsilon for numerical stability in batch normalization (/0 error)\n",
    "lossi = []\n",
    "\n",
    "for i in range(max_steps):\n",
    "    # minibatch\n",
    "    ix = torch.randint(0, Xtr.shape[0], (batch_size,), generator=g)\n",
    "    Xb, Yb = Xtr[ix], Ytr[ix]\n",
    "\n",
    "    #forward pass\n",
    "    emb = C[Xb] # character embeddings\n",
    "    embcat = emb.view(emb.shape[0], -1) # concatenate embeddings\n",
    "\n",
    "    #linear layer\n",
    "    hpreact = embcat @ W1 #(+ b1) # hidden layer preactivation\n",
    "\n",
    "    # Batch normalization\n",
    "    bnmeani = hpreact.mean(dim=0, keepdim=True)\n",
    "    bnstdi = hpreact.std(dim=0, keepdim=True)\n",
    "    hpreact = bngain * ((hpreact - bnmeani) / (bnstdi + bn_eps)) + bnbias # batch normalization\n",
    "    with torch.no_grad():\n",
    "        bnmean_running = 0.999 * bnmean_running + 0.001 * bnmeani\n",
    "        bnstd_running = 0.999 * bnstd_running + 0.001 * bnstdi\n",
    "    \n",
    "    # nonlinearity\n",
    "    h = torch.tanh(hpreact) # hidden layer activation\n",
    "    logits = h @ W2 + b2 # loutput layer\n",
    "    logits = logits.log_softmax(dim=-1) # normalize with log softmax\n",
    "    loss = F.cross_entropy(logits, Yb) # loss function\n",
    "    # backward pass\n",
    "    loss.backward()\n",
    "\n",
    "    #update\n",
    "    lr = 0.1 if i < 100000 else 0.01 # learning rate decay\n",
    "    for p in parameters:\n",
    "        p.data += -lr * p.grad \n",
    "        p.grad = None\n",
    "    \n",
    "    # track stats\n",
    "    if i % 10000 == 0:\n",
    "        print(f'{i:7d}/{max_steps:7d}: {loss.item():.4f}')\n",
    "    lossi.append(loss.log10().item())\n",
    "\n"
   ]
  },
  {
   "cell_type": "code",
   "execution_count": 276,
   "metadata": {},
   "outputs": [
    {
     "data": {
      "text/plain": [
       "[<matplotlib.lines.Line2D at 0x29e6026d0>]"
      ]
     },
     "execution_count": 276,
     "metadata": {},
     "output_type": "execute_result"
    },
    {
     "data": {
      "image/png": "[encoded data removed]",
      "text/plain": [
       "<Figure size 640x480 with 1 Axes>"
      ]
     },
     "metadata": {},
     "output_type": "display_data"
    }
   ],
   "source": [
    "plt.plot(lossi)"
   ]
  },
  {
   "cell_type": "code",
   "execution_count": 277,
   "metadata": {},
   "outputs": [
    {
     "name": "stdout",
     "output_type": "stream",
     "text": [
      "train loss: 2.0530\n",
      "val loss: 2.1013\n"
     ]
    }
   ],
   "source": [
    "# loss evaluation\n",
    "@torch.no_grad()\n",
    "def split_loss(split):\n",
    "    x,y = {'train': (Xtr,Ytr), 'val': (Xdev,Ydev), 'test': (Xte,Yte)}[split]\n",
    "    emb = C[x] # (N, block_size, n_embd)\n",
    "    embcat = emb.view(emb.shape[0], -1) # concatenate embeddings\n",
    "    hpreact = embcat @ W1 #+ b1 # hidden layer preactivation\n",
    "    hpreact = bngain * (hpreact - bnmean_running) / bnstd_running + bnbias # batch normalization\n",
    "    h = torch.tanh(hpreact) # hidden layer activation\n",
    "    logits = h @ W2 + b2 # (N, vocab_size)\n",
    "    loss = F.cross_entropy(logits, y)\n",
    "    print(f'{split} loss: {loss.item():.4f}')\n",
    "\n",
    "split_loss('train')\n",
    "split_loss('val')"
   ]
  },
  {
   "cell_type": "code",
   "execution_count": 278,
   "metadata": {},
   "outputs": [
    {
     "name": "stdout",
     "output_type": "stream",
     "text": [
      "coura\n",
      "damirice\n",
      "memir\n",
      "brighilandi\n",
      "tan\n",
      "dani\n",
      "ney\n",
      "yiylahylariel\n",
      "aug\n",
      "aireon\n",
      "nyx\n",
      "maesemanzellee\n",
      "jelie\n",
      "ziarett\n",
      "mana\n",
      "pryn\n",
      "riya\n",
      "zakhiantraescon\n",
      "emmeryz\n",
      "blakeky\n"
     ]
    }
   ],
   "source": [
    "# model sampling\n",
    "@torch.no_grad()\n",
    "def sample_model(n):\n",
    "    context = [0] * block_size\n",
    "    for _ in range(n):\n",
    "        out = []\n",
    "        context = [0] * block_size\n",
    "        while True:\n",
    "            # forward pass\n",
    "            emb = C[torch.tensor(context)]\n",
    "            embcat = emb.view(1, -1) # concatenate embeddings\n",
    "            hpreact = embcat @ W1 # hidden layer preactivation\n",
    "            hpreact = bngain * (hpreact - bnmean_running) / bnstd_running + bnbias # batch normalization\n",
    "            h = torch.tanh(hpreact) # hidden layer activation\n",
    "            logits = h @ W2 + b2\n",
    "            probs = F.softmax(logits, dim=-1)\n",
    "\n",
    "            # sampling\n",
    "            ix = torch.multinomial(probs, num_samples=1, generator=g).item()\n",
    "            # shift context\n",
    "            context = context[1:] + [ix]\n",
    "            if ix == 0:\n",
    "                break\n",
    "            out.append(itos[ix])\n",
    "        print(''.join(out))\n",
    "sample_model(20)"
   ]
  },
  {
   "cell_type": "code",
   "execution_count": null,
   "metadata": {},
   "outputs": [],
   "source": []
  }
 ],
 "metadata": {
  "kernelspec": {
   "display_name": "Python 3",
   "language": "python",
   "name": "python3"
  },
  "language_info": {
   "codemirror_mode": {
    "name": "ipython",
    "version": 3
   },
   "file_extension": ".py",
   "mimetype": "text/x-python",
   "name": "python",
   "nbconvert_exporter": "python",
   "pygments_lexer": "ipython3",
   "version": "3.11.1"
  }
 },
 "nbformat": 4,
 "nbformat_minor": 2
}
