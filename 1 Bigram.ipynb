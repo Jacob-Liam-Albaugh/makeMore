{
 "cells": [
  {
   "cell_type": "code",
   "execution_count": 3,
   "metadata": {},
   "outputs": [],
   "source": [
    "import torch\n",
    "import torch.nn.functional as F\n",
    "\n",
    "# Import data\n",
    "names = open('names.txt', 'r').read().splitlines()\n",
    "chars = sorted(list(set(''.join(names))))\n",
    "stoi = {s:i+1 for i,s in enumerate(chars)}\n",
    "stoi['.'] = 0\n",
    "itos = {i+1:s for i,s in enumerate(chars)}\n",
    "itos[0] = '.'"
   ]
  },
  {
   "cell_type": "code",
   "execution_count": 4,
   "metadata": {},
   "outputs": [],
   "source": [
    "# Create Dataset\n",
    "xs, ys = [], []\n",
    "for name in names:\n",
    "    chs = ['.'] + list(name) + ['.']\n",
    "    for ch1, ch2 in zip(chs, chs[1:]):\n",
    "        xs.append(stoi[ch1])\n",
    "        ys.append(stoi[ch2])\n",
    "xs = torch.tensor(xs)\n",
    "ys = torch.tensor(ys)\n",
    "num = xs.nelement()"
   ]
  },
  {
   "cell_type": "code",
   "execution_count": 5,
   "metadata": {},
   "outputs": [],
   "source": [
    "# initialize netowrk\n",
    "g = torch.Generator().manual_seed(2147483647)\n",
    "W = torch.randn((27,27), generator=g, requires_grad=True)\n"
   ]
  },
  {
   "cell_type": "code",
   "execution_count": 10,
   "metadata": {},
   "outputs": [
    {
     "name": "stdout",
     "output_type": "stream",
     "text": [
      "loss=2.459230422973633\n",
      "loss=2.4590423107147217\n",
      "loss=2.458867073059082\n",
      "loss=2.458702802658081\n",
      "loss=2.4585487842559814\n",
      "loss=2.4584035873413086\n",
      "loss=2.4582672119140625\n",
      "loss=2.4581384658813477\n",
      "loss=2.4580163955688477\n",
      "loss=2.4579017162323\n",
      "loss=2.4577927589416504\n"
     ]
    }
   ],
   "source": [
    "# Gradient Descent\n",
    "for k in range(101):\n",
    "    # forward pass\n",
    "    xenc = F.one_hot(xs, num_classes=27).float()\n",
    "    logits = torch.matmul(xenc, W)\n",
    "    # Softmax\n",
    "    #counts = logits.exp()\n",
    "    #probs = counts / counts.sum(dim=1, keepdim=True)\n",
    "    #loss = -probs[torch.arange(num), ys].log().mean()\n",
    "    loss = F.cross_entropy(logits, ys)\n",
    "    if k % 10 == 0:\n",
    "        print(f'loss={loss.item()}')\n",
    "\n",
    "    # backward pass\n",
    "    W.grad = None\n",
    "    loss.backward()\n",
    "\n",
    "    # update\n",
    "    W.data += -50 * W.grad"
   ]
  },
  {
   "cell_type": "code",
   "execution_count": 14,
   "metadata": {},
   "outputs": [
    {
     "name": "stdout",
     "output_type": "stream",
     "text": [
      "s\n",
      "ki\n",
      "olyvitay\n",
      "ren\n",
      "balyduwpri\n"
     ]
    }
   ],
   "source": [
    "# Generate some names\n",
    "for i in range(5):\n",
    "    out = []\n",
    "    ix = 0\n",
    "    while True:\n",
    "        xenc = F.one_hot(torch.tensor([ix]), num_classes=27).float()\n",
    "        logits = torch.matmul(xenc, W)\n",
    "        counts = logits.exp()\n",
    "        p = counts / counts.sum()\n",
    "\n",
    "        ix = torch.multinomial(p, num_samples=1, replacement=True, generator=g).item()\n",
    "        if ix == 0:\n",
    "            break\n",
    "        out.append(itos[ix])\n",
    "    print(''.join(out))"
   ]
  },
  {
   "cell_type": "code",
   "execution_count": null,
   "metadata": {},
   "outputs": [],
   "source": []
  }
 ],
 "metadata": {
  "kernelspec": {
   "display_name": "Python 3",
   "language": "python",
   "name": "python3"
  },
  "language_info": {
   "codemirror_mode": {
    "name": "ipython",
    "version": 3
   },
   "file_extension": ".py",
   "mimetype": "text/x-python",
   "name": "python",
   "nbconvert_exporter": "python",
   "pygments_lexer": "ipython3",
   "version": "3.11.1"
  }
 },
 "nbformat": 4,
 "nbformat_minor": 2
}
